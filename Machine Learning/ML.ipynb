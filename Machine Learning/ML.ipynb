{
 "cells": [
  {
   "cell_type": "code",
   "execution_count": 1,
   "id": "9f027223",
   "metadata": {},
   "outputs": [
    {
     "name": "stderr",
     "output_type": "stream",
     "text": [
      "[nltk_data] Downloading package stopwords to\n",
      "[nltk_data]     C:\\Users\\35383\\AppData\\Roaming\\nltk_data...\n",
      "[nltk_data]   Package stopwords is already up-to-date!\n"
     ]
    }
   ],
   "source": [
    "import pandas as pd\n",
    "import requests\n",
    "import json\n",
    "import os\n",
    "import string\n",
    "import nltk\n",
    "import re\n",
    "\n",
    "from sklearn.feature_extraction.text import CountVectorizer\n",
    "\n",
    "from dotenv import dotenv_values\n",
    "\n",
    "from nltk.corpus import stopwords\n",
    "nltk.download('stopwords')\n",
    "\n",
    "from nltk.stem import PorterStemmer"
   ]
  },
  {
   "cell_type": "code",
   "execution_count": 2,
   "id": "fddd698a",
   "metadata": {},
   "outputs": [],
   "source": [
    "import warnings\n",
    "warnings.filterwarnings('ignore') # We can suppress the warnings"
   ]
  },
  {
   "cell_type": "code",
   "execution_count": 3,
   "id": "afaef08f",
   "metadata": {},
   "outputs": [],
   "source": [
    "config = dotenv_values(\".env\")\n",
    "\n",
    "my_api_key = config[\"API_KEY\"]\n",
    "my_api_key_secret = config[\"API_KEY_SECRET\"]"
   ]
  },
  {
   "cell_type": "code",
   "execution_count": 4,
   "id": "f8bfe5a0",
   "metadata": {},
   "outputs": [],
   "source": [
    "bearer_token = config[\"BEARER_TOKEN\"]\n",
    "\n",
    "search_url = \"https://api.twitter.com/2/tweets/search/recent\"\n",
    "\n",
    "\n",
    "def bearer_oauth(r):\n",
    "    \"\"\"\n",
    "    Method required by bearer token authentication.\n",
    "    \"\"\"\n",
    "\n",
    "    r.headers[\"Authorization\"] = f\"Bearer {bearer_token}\"\n",
    "    r.headers[\"User-Agent\"] = \"v2RecentSearchPython\"\n",
    "    return r\n",
    "\n",
    "def connect_to_endpoint(url, params):\n",
    "    response = requests.get(url, auth=bearer_oauth, params=params)\n",
    "    print(response.status_code)\n",
    "    if response.status_code != 200:\n",
    "        raise Exception(response.status_code, response.text)\n",
    "    return response.json()\n",
    "\n",
    "\n",
    "def Get_tweets(filename, params):\n",
    "    \n",
    "    filename = f'{filename}.bz2'\n",
    "    \n",
    "    if os.path.exists(filename) == False:\n",
    "        \n",
    "        for p in params:\n",
    "            query_params = {\n",
    "                'query' : f'{p} -is:retweet lang:en',\n",
    "                'tweet.fields': 'author_id', \n",
    "                'user.fields': 'name',\n",
    "                \"max_results\":\"100\",\n",
    "            }\n",
    "\n",
    "\n",
    "            json_response = connect_to_endpoint(search_url, query_params)\n",
    "\n",
    "            #creating df \n",
    "            t = pd.DataFrame.from_dict(json_response['data'])\n",
    "            \n",
    "            if p == params[0]:\n",
    "                df = t\n",
    "            else:\n",
    "                df = pd.concat([df, t])\n",
    "                \n",
    "                \n",
    "            df.to_csv(filename, index=False,compression='bz2')\n",
    "       \n",
    "        print(f\"Data from API save as {filename}\")\n",
    "    \n",
    "    else:\n",
    "        df = pd.read_csv(filename)\n",
    "        print(f\"The file {filename} was read.\")\n",
    "        \n",
    "    return df"
   ]
  },
  {
   "cell_type": "markdown",
   "id": "6cfeba66",
   "metadata": {},
   "source": [
    "## Getting Tweets"
   ]
  },
  {
   "cell_type": "code",
   "execution_count": 5,
   "id": "1e8132ad",
   "metadata": {},
   "outputs": [
    {
     "name": "stdout",
     "output_type": "stream",
     "text": [
      "The file tweets_total.bz2 was read.\n"
     ]
    },
    {
     "data": {
      "text/plain": [
       "(463, 4)"
      ]
     },
     "execution_count": 5,
     "metadata": {},
     "output_type": "execute_result"
    }
   ],
   "source": [
    "p_list = ['Agriculture Ireland','Agriculture France', 'Agriculture Europe', 'sheep Ireland', 'goats Ireland' ,\n",
    "          'sheep France', 'goats France', 'sheep Europe', 'goats Europe']\n",
    "\n",
    "tweets_total = Get_tweets(filename = 'tweets_total',\n",
    "                    params = p_list)\n",
    "\n",
    "tweets_total.shape"
   ]
  },
  {
   "cell_type": "code",
   "execution_count": 6,
   "id": "8628b48c",
   "metadata": {},
   "outputs": [
    {
     "data": {
      "text/plain": [
       "Index(['text', 'id', 'edit_history_tweet_ids', 'author_id'], dtype='object')"
      ]
     },
     "execution_count": 6,
     "metadata": {},
     "output_type": "execute_result"
    }
   ],
   "source": [
    "tweets_total.columns"
   ]
  },
  {
   "cell_type": "code",
   "execution_count": 7,
   "id": "d66559c8",
   "metadata": {},
   "outputs": [],
   "source": [
    "def Clean_word(df_column):\n",
    "    # Store the stopwords into the object named as \"stop_words\"\n",
    "    stop_words = stopwords.words('english')\n",
    "\n",
    "    # Store the string.punctuation into an object punct\n",
    "    punct = string.punctuation\n",
    "\n",
    "    # Initialise an object using a method PorterStemmer\n",
    "    stemmer = PorterStemmer()\n",
    "\n",
    "    cleaned_data=[]\n",
    "\n",
    "    # For loop from first value to length(X), ^a-zA-Z means include small and capital case letters\n",
    "\n",
    "    for i in range(len(df_column)):\n",
    "        df = re.sub('[^a-zA-Z]', ' ', df_column.iloc[i])\n",
    "        df = df.lower().split()\n",
    "        df = [stemmer.stem(word) for word in df if (word not in stop_words) and (word not in punct)]\n",
    "        df = ' '.join(df)\n",
    "        cleaned_data.append(df)\n",
    "        \n",
    "    return cleaned_data"
   ]
  },
  {
   "cell_type": "code",
   "execution_count": 8,
   "id": "9570237f",
   "metadata": {},
   "outputs": [
    {
     "data": {
      "text/html": [
       "<div>\n",
       "<style scoped>\n",
       "    .dataframe tbody tr th:only-of-type {\n",
       "        vertical-align: middle;\n",
       "    }\n",
       "\n",
       "    .dataframe tbody tr th {\n",
       "        vertical-align: top;\n",
       "    }\n",
       "\n",
       "    .dataframe thead th {\n",
       "        text-align: right;\n",
       "    }\n",
       "</style>\n",
       "<table border=\"1\" class=\"dataframe\">\n",
       "  <thead>\n",
       "    <tr style=\"text-align: right;\">\n",
       "      <th></th>\n",
       "      <th>text</th>\n",
       "      <th>id</th>\n",
       "      <th>edit_history_tweet_ids</th>\n",
       "      <th>author_id</th>\n",
       "      <th>Text_clean</th>\n",
       "    </tr>\n",
       "  </thead>\n",
       "  <tbody>\n",
       "    <tr>\n",
       "      <th>0</th>\n",
       "      <td>Get to grips with Multifunctional Agriculture ...</td>\n",
       "      <td>1612443217391149056</td>\n",
       "      <td>['1612443217391149056']</td>\n",
       "      <td>1544699978920124417</td>\n",
       "      <td>get grip multifunct agricultur read paper link...</td>\n",
       "    </tr>\n",
       "    <tr>\n",
       "      <th>1</th>\n",
       "      <td>Articles from the @irishexaminer on the fishin...</td>\n",
       "      <td>1612439553406640129</td>\n",
       "      <td>['1612439553406640129']</td>\n",
       "      <td>3791827456</td>\n",
       "      <td>articl irishexamin fish commun ireland depress...</td>\n",
       "    </tr>\n",
       "    <tr>\n",
       "      <th>2</th>\n",
       "      <td>Domestic Milk Intake up 7.4% in November 2022\\...</td>\n",
       "      <td>1612404068755951620</td>\n",
       "      <td>['1612404068755951620']</td>\n",
       "      <td>63576239</td>\n",
       "      <td>domest milk intak novemb http co djc rvhm csoi...</td>\n",
       "    </tr>\n",
       "    <tr>\n",
       "      <th>3</th>\n",
       "      <td>@ed_sligo European Commission approves the CAP...</td>\n",
       "      <td>1612397532981641217</td>\n",
       "      <td>['1612397532981641217']</td>\n",
       "      <td>2461039562</td>\n",
       "      <td>ed sligo european commiss approv cap strateg p...</td>\n",
       "    </tr>\n",
       "    <tr>\n",
       "      <th>4</th>\n",
       "      <td>@johnredwood Northern Ireland Trawler Fleet st...</td>\n",
       "      <td>1612392384095993858</td>\n",
       "      <td>['1612392384095993858']</td>\n",
       "      <td>952852258865152000</td>\n",
       "      <td>johnredwood northern ireland trawler fleet sti...</td>\n",
       "    </tr>\n",
       "  </tbody>\n",
       "</table>\n",
       "</div>"
      ],
      "text/plain": [
       "                                                text                   id  \\\n",
       "0  Get to grips with Multifunctional Agriculture ...  1612443217391149056   \n",
       "1  Articles from the @irishexaminer on the fishin...  1612439553406640129   \n",
       "2  Domestic Milk Intake up 7.4% in November 2022\\...  1612404068755951620   \n",
       "3  @ed_sligo European Commission approves the CAP...  1612397532981641217   \n",
       "4  @johnredwood Northern Ireland Trawler Fleet st...  1612392384095993858   \n",
       "\n",
       "    edit_history_tweet_ids            author_id  \\\n",
       "0  ['1612443217391149056']  1544699978920124417   \n",
       "1  ['1612439553406640129']           3791827456   \n",
       "2  ['1612404068755951620']             63576239   \n",
       "3  ['1612397532981641217']           2461039562   \n",
       "4  ['1612392384095993858']   952852258865152000   \n",
       "\n",
       "                                          Text_clean  \n",
       "0  get grip multifunct agricultur read paper link...  \n",
       "1  articl irishexamin fish commun ireland depress...  \n",
       "2  domest milk intak novemb http co djc rvhm csoi...  \n",
       "3  ed sligo european commiss approv cap strateg p...  \n",
       "4  johnredwood northern ireland trawler fleet sti...  "
      ]
     },
     "execution_count": 8,
     "metadata": {},
     "output_type": "execute_result"
    }
   ],
   "source": [
    "tweets_total['Text_clean'] = Clean_word(tweets_total['text'])\n",
    "tweets_total.head()"
   ]
  },
  {
   "cell_type": "markdown",
   "id": "1f8ea575",
   "metadata": {},
   "source": [
    "### import base airlines"
   ]
  },
  {
   "cell_type": "code",
   "execution_count": 9,
   "id": "c770acaa",
   "metadata": {},
   "outputs": [
    {
     "data": {
      "text/html": [
       "<div>\n",
       "<style scoped>\n",
       "    .dataframe tbody tr th:only-of-type {\n",
       "        vertical-align: middle;\n",
       "    }\n",
       "\n",
       "    .dataframe tbody tr th {\n",
       "        vertical-align: top;\n",
       "    }\n",
       "\n",
       "    .dataframe thead th {\n",
       "        text-align: right;\n",
       "    }\n",
       "</style>\n",
       "<table border=\"1\" class=\"dataframe\">\n",
       "  <thead>\n",
       "    <tr style=\"text-align: right;\">\n",
       "      <th></th>\n",
       "      <th>tweet_id</th>\n",
       "      <th>airline_sentiment</th>\n",
       "      <th>airline_sentiment_confidence</th>\n",
       "      <th>negativereason</th>\n",
       "      <th>negativereason_confidence</th>\n",
       "      <th>airline</th>\n",
       "      <th>airline_sentiment_gold</th>\n",
       "      <th>name</th>\n",
       "      <th>negativereason_gold</th>\n",
       "      <th>retweet_count</th>\n",
       "      <th>text</th>\n",
       "      <th>tweet_coord</th>\n",
       "      <th>tweet_created</th>\n",
       "      <th>tweet_location</th>\n",
       "      <th>user_timezone</th>\n",
       "    </tr>\n",
       "  </thead>\n",
       "  <tbody>\n",
       "    <tr>\n",
       "      <th>0</th>\n",
       "      <td>570306133677760513</td>\n",
       "      <td>neutral</td>\n",
       "      <td>1.0000</td>\n",
       "      <td>NaN</td>\n",
       "      <td>NaN</td>\n",
       "      <td>Virgin America</td>\n",
       "      <td>NaN</td>\n",
       "      <td>cairdin</td>\n",
       "      <td>NaN</td>\n",
       "      <td>0</td>\n",
       "      <td>@VirginAmerica What @dhepburn said.</td>\n",
       "      <td>NaN</td>\n",
       "      <td>2015-02-24 11:35:52 -0800</td>\n",
       "      <td>NaN</td>\n",
       "      <td>Eastern Time (US &amp; Canada)</td>\n",
       "    </tr>\n",
       "    <tr>\n",
       "      <th>1</th>\n",
       "      <td>570301130888122368</td>\n",
       "      <td>positive</td>\n",
       "      <td>0.3486</td>\n",
       "      <td>NaN</td>\n",
       "      <td>0.0</td>\n",
       "      <td>Virgin America</td>\n",
       "      <td>NaN</td>\n",
       "      <td>jnardino</td>\n",
       "      <td>NaN</td>\n",
       "      <td>0</td>\n",
       "      <td>@VirginAmerica plus you've added commercials t...</td>\n",
       "      <td>NaN</td>\n",
       "      <td>2015-02-24 11:15:59 -0800</td>\n",
       "      <td>NaN</td>\n",
       "      <td>Pacific Time (US &amp; Canada)</td>\n",
       "    </tr>\n",
       "    <tr>\n",
       "      <th>2</th>\n",
       "      <td>570301083672813571</td>\n",
       "      <td>neutral</td>\n",
       "      <td>0.6837</td>\n",
       "      <td>NaN</td>\n",
       "      <td>NaN</td>\n",
       "      <td>Virgin America</td>\n",
       "      <td>NaN</td>\n",
       "      <td>yvonnalynn</td>\n",
       "      <td>NaN</td>\n",
       "      <td>0</td>\n",
       "      <td>@VirginAmerica I didn't today... Must mean I n...</td>\n",
       "      <td>NaN</td>\n",
       "      <td>2015-02-24 11:15:48 -0800</td>\n",
       "      <td>Lets Play</td>\n",
       "      <td>Central Time (US &amp; Canada)</td>\n",
       "    </tr>\n",
       "  </tbody>\n",
       "</table>\n",
       "</div>"
      ],
      "text/plain": [
       "             tweet_id airline_sentiment  airline_sentiment_confidence  \\\n",
       "0  570306133677760513           neutral                        1.0000   \n",
       "1  570301130888122368          positive                        0.3486   \n",
       "2  570301083672813571           neutral                        0.6837   \n",
       "\n",
       "  negativereason  negativereason_confidence         airline  \\\n",
       "0            NaN                        NaN  Virgin America   \n",
       "1            NaN                        0.0  Virgin America   \n",
       "2            NaN                        NaN  Virgin America   \n",
       "\n",
       "  airline_sentiment_gold        name negativereason_gold  retweet_count  \\\n",
       "0                    NaN     cairdin                 NaN              0   \n",
       "1                    NaN    jnardino                 NaN              0   \n",
       "2                    NaN  yvonnalynn                 NaN              0   \n",
       "\n",
       "                                                text tweet_coord  \\\n",
       "0                @VirginAmerica What @dhepburn said.         NaN   \n",
       "1  @VirginAmerica plus you've added commercials t...         NaN   \n",
       "2  @VirginAmerica I didn't today... Must mean I n...         NaN   \n",
       "\n",
       "               tweet_created tweet_location               user_timezone  \n",
       "0  2015-02-24 11:35:52 -0800            NaN  Eastern Time (US & Canada)  \n",
       "1  2015-02-24 11:15:59 -0800            NaN  Pacific Time (US & Canada)  \n",
       "2  2015-02-24 11:15:48 -0800      Lets Play  Central Time (US & Canada)  "
      ]
     },
     "execution_count": 9,
     "metadata": {},
     "output_type": "execute_result"
    }
   ],
   "source": [
    "#import base airlines\n",
    "\n",
    "t_air = pd.read_csv('tweets.csv')\n",
    "t_air.head(3)"
   ]
  },
  {
   "cell_type": "code",
   "execution_count": 10,
   "id": "1b9c7dcb",
   "metadata": {},
   "outputs": [
    {
     "data": {
      "text/html": [
       "<div>\n",
       "<style scoped>\n",
       "    .dataframe tbody tr th:only-of-type {\n",
       "        vertical-align: middle;\n",
       "    }\n",
       "\n",
       "    .dataframe tbody tr th {\n",
       "        vertical-align: top;\n",
       "    }\n",
       "\n",
       "    .dataframe thead th {\n",
       "        text-align: right;\n",
       "    }\n",
       "</style>\n",
       "<table border=\"1\" class=\"dataframe\">\n",
       "  <thead>\n",
       "    <tr style=\"text-align: right;\">\n",
       "      <th></th>\n",
       "      <th>text</th>\n",
       "      <th>airline_sentiment</th>\n",
       "      <th>Text_clean</th>\n",
       "    </tr>\n",
       "  </thead>\n",
       "  <tbody>\n",
       "    <tr>\n",
       "      <th>0</th>\n",
       "      <td>@VirginAmerica What @dhepburn said.</td>\n",
       "      <td>neutral</td>\n",
       "      <td>virginamerica dhepburn said</td>\n",
       "    </tr>\n",
       "    <tr>\n",
       "      <th>1</th>\n",
       "      <td>@VirginAmerica plus you've added commercials t...</td>\n",
       "      <td>positive</td>\n",
       "      <td>virginamerica plu ad commerci experi tacki</td>\n",
       "    </tr>\n",
       "    <tr>\n",
       "      <th>2</th>\n",
       "      <td>@VirginAmerica I didn't today... Must mean I n...</td>\n",
       "      <td>neutral</td>\n",
       "      <td>virginamerica today must mean need take anoth ...</td>\n",
       "    </tr>\n",
       "    <tr>\n",
       "      <th>3</th>\n",
       "      <td>@VirginAmerica it's really aggressive to blast...</td>\n",
       "      <td>negative</td>\n",
       "      <td>virginamerica realli aggress blast obnoxi ente...</td>\n",
       "    </tr>\n",
       "  </tbody>\n",
       "</table>\n",
       "</div>"
      ],
      "text/plain": [
       "                                                text airline_sentiment  \\\n",
       "0                @VirginAmerica What @dhepburn said.           neutral   \n",
       "1  @VirginAmerica plus you've added commercials t...          positive   \n",
       "2  @VirginAmerica I didn't today... Must mean I n...           neutral   \n",
       "3  @VirginAmerica it's really aggressive to blast...          negative   \n",
       "\n",
       "                                          Text_clean  \n",
       "0                        virginamerica dhepburn said  \n",
       "1         virginamerica plu ad commerci experi tacki  \n",
       "2  virginamerica today must mean need take anoth ...  \n",
       "3  virginamerica realli aggress blast obnoxi ente...  "
      ]
     },
     "execution_count": 10,
     "metadata": {},
     "output_type": "execute_result"
    }
   ],
   "source": [
    "t_air = t_air[['text', 'airline_sentiment']]\n",
    "t_air['Text_clean'] = Clean_word(t_air['text'])\n",
    "t_air.head(4)"
   ]
  },
  {
   "cell_type": "code",
   "execution_count": 11,
   "id": "d0aaf756",
   "metadata": {},
   "outputs": [
    {
     "data": {
      "text/plain": [
       "(14640, 3)"
      ]
     },
     "execution_count": 11,
     "metadata": {},
     "output_type": "execute_result"
    }
   ],
   "source": [
    "t_air.shape"
   ]
  },
  {
   "cell_type": "markdown",
   "id": "8918490f",
   "metadata": {},
   "source": [
    "### creating a unique database "
   ]
  },
  {
   "cell_type": "code",
   "execution_count": 12,
   "id": "3a3cf329",
   "metadata": {},
   "outputs": [
    {
     "data": {
      "text/html": [
       "<div>\n",
       "<style scoped>\n",
       "    .dataframe tbody tr th:only-of-type {\n",
       "        vertical-align: middle;\n",
       "    }\n",
       "\n",
       "    .dataframe tbody tr th {\n",
       "        vertical-align: top;\n",
       "    }\n",
       "\n",
       "    .dataframe thead th {\n",
       "        text-align: right;\n",
       "    }\n",
       "</style>\n",
       "<table border=\"1\" class=\"dataframe\">\n",
       "  <thead>\n",
       "    <tr style=\"text-align: right;\">\n",
       "      <th></th>\n",
       "      <th>text</th>\n",
       "      <th>id</th>\n",
       "      <th>edit_history_tweet_ids</th>\n",
       "      <th>author_id</th>\n",
       "      <th>Text_clean</th>\n",
       "    </tr>\n",
       "  </thead>\n",
       "  <tbody>\n",
       "    <tr>\n",
       "      <th>10</th>\n",
       "      <td>@rayofoghlu I love these short videos from all...</td>\n",
       "      <td>1611777802444873729</td>\n",
       "      <td>['1611777802444873729']</td>\n",
       "      <td>1070801212272971782</td>\n",
       "      <td>rayofoghlu love short video around ireland loo...</td>\n",
       "    </tr>\n",
       "  </tbody>\n",
       "</table>\n",
       "</div>"
      ],
      "text/plain": [
       "                                                 text                   id  \\\n",
       "10  @rayofoghlu I love these short videos from all...  1611777802444873729   \n",
       "\n",
       "     edit_history_tweet_ids            author_id  \\\n",
       "10  ['1611777802444873729']  1070801212272971782   \n",
       "\n",
       "                                           Text_clean  \n",
       "10  rayofoghlu love short video around ireland loo...  "
      ]
     },
     "execution_count": 12,
     "metadata": {},
     "output_type": "execute_result"
    }
   ],
   "source": [
    "tweets_total.sample()"
   ]
  },
  {
   "cell_type": "code",
   "execution_count": 13,
   "id": "cfa69914",
   "metadata": {},
   "outputs": [
    {
     "data": {
      "text/html": [
       "<div>\n",
       "<style scoped>\n",
       "    .dataframe tbody tr th:only-of-type {\n",
       "        vertical-align: middle;\n",
       "    }\n",
       "\n",
       "    .dataframe tbody tr th {\n",
       "        vertical-align: top;\n",
       "    }\n",
       "\n",
       "    .dataframe thead th {\n",
       "        text-align: right;\n",
       "    }\n",
       "</style>\n",
       "<table border=\"1\" class=\"dataframe\">\n",
       "  <thead>\n",
       "    <tr style=\"text-align: right;\">\n",
       "      <th></th>\n",
       "      <th>text</th>\n",
       "      <th>airline_sentiment</th>\n",
       "      <th>Text_clean</th>\n",
       "    </tr>\n",
       "  </thead>\n",
       "  <tbody>\n",
       "    <tr>\n",
       "      <th>4821</th>\n",
       "      <td>@SouthwestAir may I have my Companion pass ple...</td>\n",
       "      <td>neutral</td>\n",
       "      <td>southwestair may companion pass pleas</td>\n",
       "    </tr>\n",
       "  </tbody>\n",
       "</table>\n",
       "</div>"
      ],
      "text/plain": [
       "                                                   text airline_sentiment  \\\n",
       "4821  @SouthwestAir may I have my Companion pass ple...           neutral   \n",
       "\n",
       "                                 Text_clean  \n",
       "4821  southwestair may companion pass pleas  "
      ]
     },
     "execution_count": 13,
     "metadata": {},
     "output_type": "execute_result"
    }
   ],
   "source": [
    "ml = pd.concat([t_air, tweets_total[['Text_clean','text']]])\n",
    "ml = ml.fillna(0).reset_index(drop =True)\n",
    "ml.sample()"
   ]
  },
  {
   "cell_type": "markdown",
   "id": "88dcde7d",
   "metadata": {},
   "source": [
    "14640 - first row is from airline\n",
    "\n",
    "463 - last row is from Twitter"
   ]
  },
  {
   "cell_type": "code",
   "execution_count": 14,
   "id": "e21edeb7",
   "metadata": {},
   "outputs": [
    {
     "data": {
      "text/plain": [
       "(15103, 5000)"
      ]
     },
     "execution_count": 14,
     "metadata": {},
     "output_type": "execute_result"
    }
   ],
   "source": [
    "# Instantiate an object cv by calling a method named as CountVectorzer()\n",
    "cv    = CountVectorizer(max_features = 5000, stop_words = ['virginamerica', 'unit', 'amp'])\n",
    "\n",
    "X = cv.fit_transform(ml['Text_clean']).toarray()\n",
    "X.shape"
   ]
  },
  {
   "cell_type": "code",
   "execution_count": 15,
   "id": "52751c9a",
   "metadata": {},
   "outputs": [
    {
     "name": "stdout",
     "output_type": "stream",
     "text": [
      "(14640, 5000)\n",
      "(463, 5000)\n"
     ]
    }
   ],
   "source": [
    "#splitting dataframes \n",
    "\n",
    "X_air =  X[:14640]\n",
    "X_twi = X[14640:]\n",
    "print(X_air.shape)\n",
    "print(X_twi.shape)"
   ]
  },
  {
   "cell_type": "code",
   "execution_count": 16,
   "id": "a553c6ca",
   "metadata": {},
   "outputs": [
    {
     "data": {
      "text/plain": [
       "(15103,)"
      ]
     },
     "execution_count": 16,
     "metadata": {},
     "output_type": "execute_result"
    }
   ],
   "source": [
    "y = ml['airline_sentiment']\n",
    "y.shape"
   ]
  },
  {
   "cell_type": "code",
   "execution_count": 17,
   "id": "4964d24e",
   "metadata": {},
   "outputs": [
    {
     "name": "stdout",
     "output_type": "stream",
     "text": [
      "(14640,)\n",
      "(463,)\n"
     ]
    }
   ],
   "source": [
    "#splitting dataframes \n",
    "\n",
    "y_air =  y[:14640]\n",
    "y_twi = y[14640:]\n",
    "print(y_air.shape)\n",
    "print(y_twi.shape)"
   ]
  },
  {
   "cell_type": "markdown",
   "id": "bb3dc2c4",
   "metadata": {},
   "source": [
    "### Machine Learning"
   ]
  },
  {
   "cell_type": "code",
   "execution_count": 18,
   "id": "dee042be",
   "metadata": {},
   "outputs": [],
   "source": [
    "from sklearn.feature_extraction.text import TfidfVectorizer\n",
    "from sklearn.metrics import classification_report\n",
    "from sklearn.model_selection import train_test_split\n",
    "from sklearn.model_selection import cross_val_score\n",
    "\n",
    "from sklearn.naive_bayes import MultinomialNB\n",
    "from sklearn.svm import LinearSVC\n",
    "from sklearn.naive_bayes import GaussianNB\n",
    "from sklearn.linear_model import LogisticRegression\n",
    "from sklearn.ensemble import RandomForestClassifier"
   ]
  },
  {
   "cell_type": "code",
   "execution_count": 19,
   "id": "74fdeddc",
   "metadata": {},
   "outputs": [],
   "source": [
    "# Split the dataset into training and testing parts\n",
    "X_train, X_test, y_train, y_test = train_test_split(X_air, y_air, test_size = 0.3)"
   ]
  },
  {
   "cell_type": "code",
   "execution_count": 20,
   "id": "e5d16762",
   "metadata": {},
   "outputs": [
    {
     "name": "stdout",
     "output_type": "stream",
     "text": [
      "\n",
      "MultinomialNB:\n",
      "              precision    recall  f1-score   support\n",
      "\n",
      "    negative       0.80      0.90      0.85      2716\n",
      "     neutral       0.60      0.45      0.51       964\n",
      "    positive       0.73      0.62      0.67       712\n",
      "\n",
      "    accuracy                           0.76      4392\n",
      "   macro avg       0.71      0.65      0.67      4392\n",
      "weighted avg       0.74      0.76      0.74      4392\n",
      "\n",
      "\n",
      "Linear Support Vector Classifier:\n",
      "              precision    recall  f1-score   support\n",
      "\n",
      "    negative       0.83      0.85      0.84      2716\n",
      "     neutral       0.58      0.55      0.56       964\n",
      "    positive       0.68      0.67      0.68       712\n",
      "\n",
      "    accuracy                           0.76      4392\n",
      "   macro avg       0.70      0.69      0.69      4392\n",
      "weighted avg       0.75      0.76      0.75      4392\n",
      "\n",
      "\n",
      "Gaussuan Naive Bayes:\n",
      "              precision    recall  f1-score   support\n",
      "\n",
      "    negative       0.80      0.43      0.56      2716\n",
      "     neutral       0.31      0.31      0.31       964\n",
      "    positive       0.25      0.71      0.37       712\n",
      "\n",
      "    accuracy                           0.45      4392\n",
      "   macro avg       0.46      0.48      0.41      4392\n",
      "weighted avg       0.61      0.45      0.47      4392\n",
      "\n",
      "\n",
      "Logistic Regression:\n",
      "              precision    recall  f1-score   support\n",
      "\n",
      "    negative       0.83      0.88      0.85      2716\n",
      "     neutral       0.60      0.53      0.56       964\n",
      "    positive       0.72      0.67      0.69       712\n",
      "\n",
      "    accuracy                           0.77      4392\n",
      "   macro avg       0.72      0.69      0.70      4392\n",
      "weighted avg       0.76      0.77      0.76      4392\n",
      "\n",
      "\n",
      "Random Forest Classifier:\n",
      "              precision    recall  f1-score   support\n",
      "\n",
      "    negative       0.79      0.89      0.84      2716\n",
      "     neutral       0.58      0.46      0.51       964\n",
      "    positive       0.69      0.53      0.60       712\n",
      "\n",
      "    accuracy                           0.74      4392\n",
      "   macro avg       0.68      0.63      0.65      4392\n",
      "weighted avg       0.73      0.74      0.73      4392\n",
      "\n",
      "CPU times: total: 41.2 s\n",
      "Wall time: 23.8 s\n"
     ]
    }
   ],
   "source": [
    "%%time\n",
    "\n",
    "print('\\nMultinomialNB:')\n",
    "mnb = MultinomialNB()\n",
    "mnb.fit(X_train,y_train)\n",
    "y_pred = mnb.predict(X_test)\n",
    "print(classification_report(y_test, y_pred))\n",
    "\n",
    "print('\\nLinear Support Vector Classifier:')\n",
    "lsvc = LinearSVC()\n",
    "lsvc.fit(X_train,y_train)\n",
    "y_pred = lsvc.predict(X_test)\n",
    "print(classification_report(y_test, y_pred))\n",
    "\n",
    "print('\\nGaussuan Naive Bayes:')\n",
    "gnb = GaussianNB()\n",
    "gnb.fit(X_train,y_train)\n",
    "y_pred = gnb.predict(X_test)\n",
    "print(classification_report(y_test, y_pred))\n",
    "\n",
    "print('\\nLogistic Regression:')\n",
    "lr = LogisticRegression()\n",
    "lr.fit(X_train,y_train)\n",
    "y_pred = lr.predict(X_test)\n",
    "print(classification_report(y_test, y_pred))\n",
    "\n",
    "\n",
    "print('\\nRandom Forest Classifier:')\n",
    "rfc = RandomForestClassifier(n_estimators = 10, random_state = 0)\n",
    "rfc.fit(X_train,y_train)\n",
    "y_pred = rfc.predict(X_test)\n",
    "print(classification_report(y_test, y_pred))\n"
   ]
  },
  {
   "cell_type": "code",
   "execution_count": 21,
   "id": "30c2f4e0",
   "metadata": {},
   "outputs": [
    {
     "data": {
      "text/html": [
       "<div>\n",
       "<style scoped>\n",
       "    .dataframe tbody tr th:only-of-type {\n",
       "        vertical-align: middle;\n",
       "    }\n",
       "\n",
       "    .dataframe tbody tr th {\n",
       "        vertical-align: top;\n",
       "    }\n",
       "\n",
       "    .dataframe thead th {\n",
       "        text-align: right;\n",
       "    }\n",
       "</style>\n",
       "<table border=\"1\" class=\"dataframe\">\n",
       "  <thead>\n",
       "    <tr style=\"text-align: right;\">\n",
       "      <th></th>\n",
       "      <th>text</th>\n",
       "      <th>id</th>\n",
       "      <th>edit_history_tweet_ids</th>\n",
       "      <th>author_id</th>\n",
       "      <th>Text_clean</th>\n",
       "      <th>MNB</th>\n",
       "      <th>LR</th>\n",
       "    </tr>\n",
       "  </thead>\n",
       "  <tbody>\n",
       "    <tr>\n",
       "      <th>172</th>\n",
       "      <td>@Noahpinion Way more forests and wildlife in f...</td>\n",
       "      <td>1611376649572089863</td>\n",
       "      <td>['1611376649572089863']</td>\n",
       "      <td>1046907763337584640</td>\n",
       "      <td>noahpinion way forest wildlif first wave devel...</td>\n",
       "      <td>neutral</td>\n",
       "      <td>positive</td>\n",
       "    </tr>\n",
       "    <tr>\n",
       "      <th>189</th>\n",
       "      <td>@consoleghana @RAahiagbah @MBawumia @NPP_GH \\n...</td>\n",
       "      <td>1611154672202440704</td>\n",
       "      <td>['1611154672202440704']</td>\n",
       "      <td>1131380694</td>\n",
       "      <td>consoleghana raahiagbah mbawumia npp gh prez n...</td>\n",
       "      <td>neutral</td>\n",
       "      <td>neutral</td>\n",
       "    </tr>\n",
       "    <tr>\n",
       "      <th>11</th>\n",
       "      <td>👇The first constructive discussion I've heard ...</td>\n",
       "      <td>1611769649049505794</td>\n",
       "      <td>['1611769649049505794']</td>\n",
       "      <td>3029057830</td>\n",
       "      <td>first construct discuss heard ireland agricult...</td>\n",
       "      <td>neutral</td>\n",
       "      <td>positive</td>\n",
       "    </tr>\n",
       "    <tr>\n",
       "      <th>328</th>\n",
       "      <td>@nameshiv the one I loved the most was Dominic...</td>\n",
       "      <td>1611541228218355712</td>\n",
       "      <td>['1611541228218355712']</td>\n",
       "      <td>829410324365328384</td>\n",
       "      <td>nameshiv one love dominican republ music franc...</td>\n",
       "      <td>positive</td>\n",
       "      <td>positive</td>\n",
       "    </tr>\n",
       "    <tr>\n",
       "      <th>112</th>\n",
       "      <td>TODAY: The Inhumane Society #AnimalWelfare #Fa...</td>\n",
       "      <td>1610329189818982401</td>\n",
       "      <td>['1610329189818982401']</td>\n",
       "      <td>157075236</td>\n",
       "      <td>today inhuman societi animalwelfar factoryfarm...</td>\n",
       "      <td>neutral</td>\n",
       "      <td>neutral</td>\n",
       "    </tr>\n",
       "    <tr>\n",
       "      <th>230</th>\n",
       "      <td>i consider antifa in ireland TRAITERS to their...</td>\n",
       "      <td>1611899119102038016</td>\n",
       "      <td>['1611899119102038016']</td>\n",
       "      <td>1608531910644436996</td>\n",
       "      <td>consid antifa ireland traiter countri mindless...</td>\n",
       "      <td>neutral</td>\n",
       "      <td>negative</td>\n",
       "    </tr>\n",
       "    <tr>\n",
       "      <th>25</th>\n",
       "      <td>@BlaneyCarola @coilltenews @pippa_hackett @Eam...</td>\n",
       "      <td>1611378324483510272</td>\n",
       "      <td>['1611378324483510272']</td>\n",
       "      <td>843923118213206017</td>\n",
       "      <td>blaneycarola coilltenew pippa hackett eamonrya...</td>\n",
       "      <td>neutral</td>\n",
       "      <td>negative</td>\n",
       "    </tr>\n",
       "    <tr>\n",
       "      <th>251</th>\n",
       "      <td>This is why Ireland is so beautiful on so many...</td>\n",
       "      <td>1611055627496734724</td>\n",
       "      <td>['1611055627496734724']</td>\n",
       "      <td>1350482494190211073</td>\n",
       "      <td>ireland beauti mani level expect tractor sheep...</td>\n",
       "      <td>neutral</td>\n",
       "      <td>neutral</td>\n",
       "    </tr>\n",
       "    <tr>\n",
       "      <th>270</th>\n",
       "      <td>@bracken_bill @farmersjournal To have guardian...</td>\n",
       "      <td>1610272623505858563</td>\n",
       "      <td>['1610272623505858563']</td>\n",
       "      <td>4850453439</td>\n",
       "      <td>bracken bill farmersjourn guardian dog flock c...</td>\n",
       "      <td>positive</td>\n",
       "      <td>neutral</td>\n",
       "    </tr>\n",
       "    <tr>\n",
       "      <th>300</th>\n",
       "      <td>@93vintagejones How many sheep does France have</td>\n",
       "      <td>1611407491123789833</td>\n",
       "      <td>['1611407491123789833']</td>\n",
       "      <td>1221520071987736578</td>\n",
       "      <td>vintagejon mani sheep franc</td>\n",
       "      <td>neutral</td>\n",
       "      <td>neutral</td>\n",
       "    </tr>\n",
       "  </tbody>\n",
       "</table>\n",
       "</div>"
      ],
      "text/plain": [
       "                                                  text                   id  \\\n",
       "172  @Noahpinion Way more forests and wildlife in f...  1611376649572089863   \n",
       "189  @consoleghana @RAahiagbah @MBawumia @NPP_GH \\n...  1611154672202440704   \n",
       "11   👇The first constructive discussion I've heard ...  1611769649049505794   \n",
       "328  @nameshiv the one I loved the most was Dominic...  1611541228218355712   \n",
       "112  TODAY: The Inhumane Society #AnimalWelfare #Fa...  1610329189818982401   \n",
       "230  i consider antifa in ireland TRAITERS to their...  1611899119102038016   \n",
       "25   @BlaneyCarola @coilltenews @pippa_hackett @Eam...  1611378324483510272   \n",
       "251  This is why Ireland is so beautiful on so many...  1611055627496734724   \n",
       "270  @bracken_bill @farmersjournal To have guardian...  1610272623505858563   \n",
       "300    @93vintagejones How many sheep does France have  1611407491123789833   \n",
       "\n",
       "      edit_history_tweet_ids            author_id  \\\n",
       "172  ['1611376649572089863']  1046907763337584640   \n",
       "189  ['1611154672202440704']           1131380694   \n",
       "11   ['1611769649049505794']           3029057830   \n",
       "328  ['1611541228218355712']   829410324365328384   \n",
       "112  ['1610329189818982401']            157075236   \n",
       "230  ['1611899119102038016']  1608531910644436996   \n",
       "25   ['1611378324483510272']   843923118213206017   \n",
       "251  ['1611055627496734724']  1350482494190211073   \n",
       "270  ['1610272623505858563']           4850453439   \n",
       "300  ['1611407491123789833']  1221520071987736578   \n",
       "\n",
       "                                            Text_clean       MNB        LR  \n",
       "172  noahpinion way forest wildlif first wave devel...   neutral  positive  \n",
       "189  consoleghana raahiagbah mbawumia npp gh prez n...   neutral   neutral  \n",
       "11   first construct discuss heard ireland agricult...   neutral  positive  \n",
       "328  nameshiv one love dominican republ music franc...  positive  positive  \n",
       "112  today inhuman societi animalwelfar factoryfarm...   neutral   neutral  \n",
       "230  consid antifa ireland traiter countri mindless...   neutral  negative  \n",
       "25   blaneycarola coilltenew pippa hackett eamonrya...   neutral  negative  \n",
       "251  ireland beauti mani level expect tractor sheep...   neutral   neutral  \n",
       "270  bracken bill farmersjourn guardian dog flock c...  positive   neutral  \n",
       "300                        vintagejon mani sheep franc   neutral   neutral  "
      ]
     },
     "execution_count": 21,
     "metadata": {},
     "output_type": "execute_result"
    }
   ],
   "source": [
    "\n",
    "#Prediction MNB\n",
    "tweets_total['MNB'] = mnb.predict(X_twi)\n",
    "\n",
    "#Prediction Logistic Regression\n",
    "tweets_total['LR'] = lr.predict(X_twi)\n",
    "\n",
    "tweets_total.sample(10)"
   ]
  },
  {
   "cell_type": "code",
   "execution_count": 22,
   "id": "7bf16728",
   "metadata": {},
   "outputs": [
    {
     "name": "stdout",
     "output_type": "stream",
     "text": [
      "Text: @Sav70 @McConalogue @martinheydonfg @IrlEmbChina @Bordbia @agriculture_ie @farmersjournal @AgrilandIreland @thatsfarming You have only referenced agri imports &amp; exports with China, you don't seem to have an issue with other goods going to &amp; from there &amp; their emissions. I doubt the phone you are using is Irish made. Growing apples in Ireland doesn't pay, that's why. Everyone wants cheap food.\n",
      "\n",
      "MNB: positive\n",
      "LR: negative\n"
     ]
    }
   ],
   "source": [
    "i = 31\n",
    "\n",
    "print(f\"Text: {tweets_total['text'].iloc[i]}\")\n",
    "print(f'\\nMNB: {tweets_total[\"MNB\"].iloc[i]}')\n",
    "print(f'LR: {tweets_total[\"LR\"].iloc[i]}')"
   ]
  },
  {
   "cell_type": "code",
   "execution_count": null,
   "id": "278f8cbb",
   "metadata": {},
   "outputs": [],
   "source": []
  }
 ],
 "metadata": {
  "kernelspec": {
   "display_name": "Python 3 (ipykernel)",
   "language": "python",
   "name": "python3"
  },
  "language_info": {
   "codemirror_mode": {
    "name": "ipython",
    "version": 3
   },
   "file_extension": ".py",
   "mimetype": "text/x-python",
   "name": "python",
   "nbconvert_exporter": "python",
   "pygments_lexer": "ipython3",
   "version": "3.9.12"
  }
 },
 "nbformat": 4,
 "nbformat_minor": 5
}
